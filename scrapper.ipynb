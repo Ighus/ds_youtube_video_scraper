{
 "metadata": {
  "language_info": {
   "codemirror_mode": {
    "name": "ipython",
    "version": 3
   },
   "file_extension": ".py",
   "mimetype": "text/x-python",
   "name": "python",
   "nbconvert_exporter": "python",
   "pygments_lexer": "ipython3",
   "version": "3.8.3-final"
  },
  "orig_nbformat": 2,
  "kernelspec": {
   "name": "Python 3.8.3 64-bit",
   "display_name": "Python 3.8.3 64-bit",
   "metadata": {
    "interpreter": {
     "hash": "4d9029a4f2836547af4afe6e45b9a0d1b0732faf89c5b43e61cf2047755b06d5"
    }
   }
  }
 },
 "nbformat": 4,
 "nbformat_minor": 2,
 "cells": [
  {
   "cell_type": "code",
   "execution_count": 1,
   "metadata": {},
   "outputs": [],
   "source": [
    "import youtube_dl\n",
    "import pandas as pd\n",
    "import numpy as np"
   ]
  },
  {
   "cell_type": "code",
   "execution_count": 27,
   "metadata": {},
   "outputs": [],
   "source": [
    "ydl = youtube_dl.YoutubeDL()"
   ]
  },
  {
   "cell_type": "code",
   "execution_count": 32,
   "metadata": {
    "tags": []
   },
   "outputs": [
    {
     "output_type": "stream",
     "name": "stdout",
     "text": "[youtube:search:date] query \"\"machine learning\"\": Downloading page 1\n[download] Downloading playlist: \"machine learning\"\n[youtube:search:date] playlist \"machine learning\": Collected 2 video ids (downloading 2 of them)\n[download] Downloading video 1 of 2\n[youtube] Q6JbmGQstDM: Downloading webpage\n[download] Downloading video 2 of 2\n[youtube] wNwjbSK1j1k: Downloading webpage\nERROR: This live event will begin in 3 days.\n"
    },
    {
     "output_type": "error",
     "ename": "DownloadError",
     "evalue": "ERROR: This live event will begin in 3 days.",
     "traceback": [
      "\u001b[1;31m---------------------------------------------------------------------------\u001b[0m",
      "\u001b[1;31mExtractorError\u001b[0m                            Traceback (most recent call last)",
      "\u001b[1;32m~\\AppData\\Local\\Programs\\Python\\Python38\\lib\\site-packages\\youtube_dl\\YoutubeDL.py\u001b[0m in \u001b[0;36mextract_info\u001b[1;34m(self, url, download, ie_key, extra_info, process, force_generic_extractor)\u001b[0m\n\u001b[0;32m    796\u001b[0m             \u001b[1;32mtry\u001b[0m\u001b[1;33m:\u001b[0m\u001b[1;33m\u001b[0m\u001b[1;33m\u001b[0m\u001b[0m\n\u001b[1;32m--> 797\u001b[1;33m                 \u001b[0mie_result\u001b[0m \u001b[1;33m=\u001b[0m \u001b[0mie\u001b[0m\u001b[1;33m.\u001b[0m\u001b[0mextract\u001b[0m\u001b[1;33m(\u001b[0m\u001b[0murl\u001b[0m\u001b[1;33m)\u001b[0m\u001b[1;33m\u001b[0m\u001b[1;33m\u001b[0m\u001b[0m\n\u001b[0m\u001b[0;32m    798\u001b[0m                 \u001b[1;32mif\u001b[0m \u001b[0mie_result\u001b[0m \u001b[1;32mis\u001b[0m \u001b[1;32mNone\u001b[0m\u001b[1;33m:\u001b[0m  \u001b[1;31m# Finished already (backwards compatibility; listformats and friends should be moved here)\u001b[0m\u001b[1;33m\u001b[0m\u001b[1;33m\u001b[0m\u001b[0m\n",
      "\u001b[1;32m~\\AppData\\Local\\Programs\\Python\\Python38\\lib\\site-packages\\youtube_dl\\extractor\\common.py\u001b[0m in \u001b[0;36mextract\u001b[1;34m(self, url)\u001b[0m\n\u001b[0;32m    529\u001b[0m                     \u001b[0mself\u001b[0m\u001b[1;33m.\u001b[0m\u001b[0minitialize\u001b[0m\u001b[1;33m(\u001b[0m\u001b[1;33m)\u001b[0m\u001b[1;33m\u001b[0m\u001b[1;33m\u001b[0m\u001b[0m\n\u001b[1;32m--> 530\u001b[1;33m                     \u001b[0mie_result\u001b[0m \u001b[1;33m=\u001b[0m \u001b[0mself\u001b[0m\u001b[1;33m.\u001b[0m\u001b[0m_real_extract\u001b[0m\u001b[1;33m(\u001b[0m\u001b[0murl\u001b[0m\u001b[1;33m)\u001b[0m\u001b[1;33m\u001b[0m\u001b[1;33m\u001b[0m\u001b[0m\n\u001b[0m\u001b[0;32m    531\u001b[0m                     \u001b[1;32mif\u001b[0m \u001b[0mself\u001b[0m\u001b[1;33m.\u001b[0m\u001b[0m_x_forwarded_for_ip\u001b[0m\u001b[1;33m:\u001b[0m\u001b[1;33m\u001b[0m\u001b[1;33m\u001b[0m\u001b[0m\n",
      "\u001b[1;32m~\\AppData\\Local\\Programs\\Python\\Python38\\lib\\site-packages\\youtube_dl\\extractor\\youtube.py\u001b[0m in \u001b[0;36m_real_extract\u001b[1;34m(self, url)\u001b[0m\n\u001b[0;32m   2211\u001b[0m                 \u001b[1;32mif\u001b[0m \u001b[0merror_message\u001b[0m\u001b[1;33m:\u001b[0m\u001b[1;33m\u001b[0m\u001b[1;33m\u001b[0m\u001b[0m\n\u001b[1;32m-> 2212\u001b[1;33m                     \u001b[1;32mraise\u001b[0m \u001b[0mExtractorError\u001b[0m\u001b[1;33m(\u001b[0m\u001b[0merror_message\u001b[0m\u001b[1;33m,\u001b[0m \u001b[0mexpected\u001b[0m\u001b[1;33m=\u001b[0m\u001b[1;32mTrue\u001b[0m\u001b[1;33m)\u001b[0m\u001b[1;33m\u001b[0m\u001b[1;33m\u001b[0m\u001b[0m\n\u001b[0m\u001b[0;32m   2213\u001b[0m                 \u001b[1;32mraise\u001b[0m \u001b[0mExtractorError\u001b[0m\u001b[1;33m(\u001b[0m\u001b[1;34m'no conn, hlsvp, hlsManifestUrl or url_encoded_fmt_stream_map information found in video info'\u001b[0m\u001b[1;33m)\u001b[0m\u001b[1;33m\u001b[0m\u001b[1;33m\u001b[0m\u001b[0m\n",
      "\u001b[1;31mExtractorError\u001b[0m: This live event will begin in 3 days.",
      "\nDuring handling of the above exception, another exception occurred:\n",
      "\u001b[1;31mDownloadError\u001b[0m                             Traceback (most recent call last)",
      "\u001b[1;32m<ipython-input-32-ee3c3f5cffe0>\u001b[0m in \u001b[0;36m<module>\u001b[1;34m\u001b[0m\n\u001b[1;32m----> 1\u001b[1;33m \u001b[0mr\u001b[0m \u001b[1;33m=\u001b[0m \u001b[0mydl\u001b[0m\u001b[1;33m.\u001b[0m\u001b[0mextract_info\u001b[0m\u001b[1;33m(\u001b[0m\u001b[1;34m'ytsearchdate2:\"machine learning\"'\u001b[0m\u001b[1;33m,\u001b[0m \u001b[0mdownload\u001b[0m\u001b[1;33m=\u001b[0m\u001b[1;32mFalse\u001b[0m\u001b[1;33m)\u001b[0m\u001b[1;33m\u001b[0m\u001b[1;33m\u001b[0m\u001b[0m\n\u001b[0m",
      "\u001b[1;32m~\\AppData\\Local\\Programs\\Python\\Python38\\lib\\site-packages\\youtube_dl\\YoutubeDL.py\u001b[0m in \u001b[0;36mextract_info\u001b[1;34m(self, url, download, ie_key, extra_info, process, force_generic_extractor)\u001b[0m\n\u001b[0;32m    806\u001b[0m                 \u001b[0mself\u001b[0m\u001b[1;33m.\u001b[0m\u001b[0madd_default_extra_info\u001b[0m\u001b[1;33m(\u001b[0m\u001b[0mie_result\u001b[0m\u001b[1;33m,\u001b[0m \u001b[0mie\u001b[0m\u001b[1;33m,\u001b[0m \u001b[0murl\u001b[0m\u001b[1;33m)\u001b[0m\u001b[1;33m\u001b[0m\u001b[1;33m\u001b[0m\u001b[0m\n\u001b[0;32m    807\u001b[0m                 \u001b[1;32mif\u001b[0m \u001b[0mprocess\u001b[0m\u001b[1;33m:\u001b[0m\u001b[1;33m\u001b[0m\u001b[1;33m\u001b[0m\u001b[0m\n\u001b[1;32m--> 808\u001b[1;33m                     \u001b[1;32mreturn\u001b[0m \u001b[0mself\u001b[0m\u001b[1;33m.\u001b[0m\u001b[0mprocess_ie_result\u001b[0m\u001b[1;33m(\u001b[0m\u001b[0mie_result\u001b[0m\u001b[1;33m,\u001b[0m \u001b[0mdownload\u001b[0m\u001b[1;33m,\u001b[0m \u001b[0mextra_info\u001b[0m\u001b[1;33m)\u001b[0m\u001b[1;33m\u001b[0m\u001b[1;33m\u001b[0m\u001b[0m\n\u001b[0m\u001b[0;32m    809\u001b[0m                 \u001b[1;32melse\u001b[0m\u001b[1;33m:\u001b[0m\u001b[1;33m\u001b[0m\u001b[1;33m\u001b[0m\u001b[0m\n\u001b[0;32m    810\u001b[0m                     \u001b[1;32mreturn\u001b[0m \u001b[0mie_result\u001b[0m\u001b[1;33m\u001b[0m\u001b[1;33m\u001b[0m\u001b[0m\n",
      "\u001b[1;32m~\\AppData\\Local\\Programs\\Python\\Python38\\lib\\site-packages\\youtube_dl\\YoutubeDL.py\u001b[0m in \u001b[0;36mprocess_ie_result\u001b[1;34m(self, ie_result, download, extra_info)\u001b[0m\n\u001b[0;32m   1004\u001b[0m                     \u001b[1;32mcontinue\u001b[0m\u001b[1;33m\u001b[0m\u001b[1;33m\u001b[0m\u001b[0m\n\u001b[0;32m   1005\u001b[0m \u001b[1;33m\u001b[0m\u001b[0m\n\u001b[1;32m-> 1006\u001b[1;33m                 entry_result = self.process_ie_result(entry,\n\u001b[0m\u001b[0;32m   1007\u001b[0m                                                       \u001b[0mdownload\u001b[0m\u001b[1;33m=\u001b[0m\u001b[0mdownload\u001b[0m\u001b[1;33m,\u001b[0m\u001b[1;33m\u001b[0m\u001b[1;33m\u001b[0m\u001b[0m\n\u001b[0;32m   1008\u001b[0m                                                       extra_info=extra)\n",
      "\u001b[1;32m~\\AppData\\Local\\Programs\\Python\\Python38\\lib\\site-packages\\youtube_dl\\YoutubeDL.py\u001b[0m in \u001b[0;36mprocess_ie_result\u001b[1;34m(self, ie_result, download, extra_info)\u001b[0m\n\u001b[0;32m    865\u001b[0m             \u001b[1;31m# We have to add extra_info to the results because it may be\u001b[0m\u001b[1;33m\u001b[0m\u001b[1;33m\u001b[0m\u001b[1;33m\u001b[0m\u001b[0m\n\u001b[0;32m    866\u001b[0m             \u001b[1;31m# contained in a playlist\u001b[0m\u001b[1;33m\u001b[0m\u001b[1;33m\u001b[0m\u001b[1;33m\u001b[0m\u001b[0m\n\u001b[1;32m--> 867\u001b[1;33m             return self.extract_info(ie_result['url'],\n\u001b[0m\u001b[0;32m    868\u001b[0m                                      \u001b[0mdownload\u001b[0m\u001b[1;33m,\u001b[0m\u001b[1;33m\u001b[0m\u001b[1;33m\u001b[0m\u001b[0m\n\u001b[0;32m    869\u001b[0m                                      \u001b[0mie_key\u001b[0m\u001b[1;33m=\u001b[0m\u001b[0mie_result\u001b[0m\u001b[1;33m.\u001b[0m\u001b[0mget\u001b[0m\u001b[1;33m(\u001b[0m\u001b[1;34m'ie_key'\u001b[0m\u001b[1;33m)\u001b[0m\u001b[1;33m,\u001b[0m\u001b[1;33m\u001b[0m\u001b[1;33m\u001b[0m\u001b[0m\n",
      "\u001b[1;32m~\\AppData\\Local\\Programs\\Python\\Python38\\lib\\site-packages\\youtube_dl\\YoutubeDL.py\u001b[0m in \u001b[0;36mextract_info\u001b[1;34m(self, url, download, ie_key, extra_info, process, force_generic_extractor)\u001b[0m\n\u001b[0;32m    818\u001b[0m                 \u001b[1;32mbreak\u001b[0m\u001b[1;33m\u001b[0m\u001b[1;33m\u001b[0m\u001b[0m\n\u001b[0;32m    819\u001b[0m             \u001b[1;32mexcept\u001b[0m \u001b[0mExtractorError\u001b[0m \u001b[1;32mas\u001b[0m \u001b[0me\u001b[0m\u001b[1;33m:\u001b[0m  \u001b[1;31m# An error we somewhat expected\u001b[0m\u001b[1;33m\u001b[0m\u001b[1;33m\u001b[0m\u001b[0m\n\u001b[1;32m--> 820\u001b[1;33m                 \u001b[0mself\u001b[0m\u001b[1;33m.\u001b[0m\u001b[0mreport_error\u001b[0m\u001b[1;33m(\u001b[0m\u001b[0mcompat_str\u001b[0m\u001b[1;33m(\u001b[0m\u001b[0me\u001b[0m\u001b[1;33m)\u001b[0m\u001b[1;33m,\u001b[0m \u001b[0me\u001b[0m\u001b[1;33m.\u001b[0m\u001b[0mformat_traceback\u001b[0m\u001b[1;33m(\u001b[0m\u001b[1;33m)\u001b[0m\u001b[1;33m)\u001b[0m\u001b[1;33m\u001b[0m\u001b[1;33m\u001b[0m\u001b[0m\n\u001b[0m\u001b[0;32m    821\u001b[0m                 \u001b[1;32mbreak\u001b[0m\u001b[1;33m\u001b[0m\u001b[1;33m\u001b[0m\u001b[0m\n\u001b[0;32m    822\u001b[0m             \u001b[1;32mexcept\u001b[0m \u001b[0mMaxDownloadsReached\u001b[0m\u001b[1;33m:\u001b[0m\u001b[1;33m\u001b[0m\u001b[1;33m\u001b[0m\u001b[0m\n",
      "\u001b[1;32m~\\AppData\\Local\\Programs\\Python\\Python38\\lib\\site-packages\\youtube_dl\\YoutubeDL.py\u001b[0m in \u001b[0;36mreport_error\u001b[1;34m(self, message, tb)\u001b[0m\n\u001b[0;32m    623\u001b[0m             \u001b[0m_msg_header\u001b[0m \u001b[1;33m=\u001b[0m \u001b[1;34m'ERROR:'\u001b[0m\u001b[1;33m\u001b[0m\u001b[1;33m\u001b[0m\u001b[0m\n\u001b[0;32m    624\u001b[0m         \u001b[0merror_message\u001b[0m \u001b[1;33m=\u001b[0m \u001b[1;34m'%s %s'\u001b[0m \u001b[1;33m%\u001b[0m \u001b[1;33m(\u001b[0m\u001b[0m_msg_header\u001b[0m\u001b[1;33m,\u001b[0m \u001b[0mmessage\u001b[0m\u001b[1;33m)\u001b[0m\u001b[1;33m\u001b[0m\u001b[1;33m\u001b[0m\u001b[0m\n\u001b[1;32m--> 625\u001b[1;33m         \u001b[0mself\u001b[0m\u001b[1;33m.\u001b[0m\u001b[0mtrouble\u001b[0m\u001b[1;33m(\u001b[0m\u001b[0merror_message\u001b[0m\u001b[1;33m,\u001b[0m \u001b[0mtb\u001b[0m\u001b[1;33m)\u001b[0m\u001b[1;33m\u001b[0m\u001b[1;33m\u001b[0m\u001b[0m\n\u001b[0m\u001b[0;32m    626\u001b[0m \u001b[1;33m\u001b[0m\u001b[0m\n\u001b[0;32m    627\u001b[0m     \u001b[1;32mdef\u001b[0m \u001b[0mreport_file_already_downloaded\u001b[0m\u001b[1;33m(\u001b[0m\u001b[0mself\u001b[0m\u001b[1;33m,\u001b[0m \u001b[0mfile_name\u001b[0m\u001b[1;33m)\u001b[0m\u001b[1;33m:\u001b[0m\u001b[1;33m\u001b[0m\u001b[1;33m\u001b[0m\u001b[0m\n",
      "\u001b[1;32m~\\AppData\\Local\\Programs\\Python\\Python38\\lib\\site-packages\\youtube_dl\\YoutubeDL.py\u001b[0m in \u001b[0;36mtrouble\u001b[1;34m(self, message, tb)\u001b[0m\n\u001b[0;32m    593\u001b[0m             \u001b[1;32melse\u001b[0m\u001b[1;33m:\u001b[0m\u001b[1;33m\u001b[0m\u001b[1;33m\u001b[0m\u001b[0m\n\u001b[0;32m    594\u001b[0m                 \u001b[0mexc_info\u001b[0m \u001b[1;33m=\u001b[0m \u001b[0msys\u001b[0m\u001b[1;33m.\u001b[0m\u001b[0mexc_info\u001b[0m\u001b[1;33m(\u001b[0m\u001b[1;33m)\u001b[0m\u001b[1;33m\u001b[0m\u001b[1;33m\u001b[0m\u001b[0m\n\u001b[1;32m--> 595\u001b[1;33m             \u001b[1;32mraise\u001b[0m \u001b[0mDownloadError\u001b[0m\u001b[1;33m(\u001b[0m\u001b[0mmessage\u001b[0m\u001b[1;33m,\u001b[0m \u001b[0mexc_info\u001b[0m\u001b[1;33m)\u001b[0m\u001b[1;33m\u001b[0m\u001b[1;33m\u001b[0m\u001b[0m\n\u001b[0m\u001b[0;32m    596\u001b[0m         \u001b[0mself\u001b[0m\u001b[1;33m.\u001b[0m\u001b[0m_download_retcode\u001b[0m \u001b[1;33m=\u001b[0m \u001b[1;36m1\u001b[0m\u001b[1;33m\u001b[0m\u001b[1;33m\u001b[0m\u001b[0m\n\u001b[0;32m    597\u001b[0m \u001b[1;33m\u001b[0m\u001b[0m\n",
      "\u001b[1;31mDownloadError\u001b[0m: ERROR: This live event will begin in 3 days."
     ]
    }
   ],
   "source": [
    "r = ydl.extract_info('ytsearchdate2:\"machine learning\"', download=False)"
   ]
  },
  {
   "cell_type": "code",
   "execution_count": 19,
   "metadata": {},
   "outputs": [],
   "source": [
    "df = pd.DataFrame(r['entries'])\n",
    "df['query'] = 'machine learning'\n",
    "\n",
    "colunas = ['title', 'upload_date', 'view_count']\n",
    "\n",
    "df['upload_date'] = pd.to_datetime(pd['upload_date'])\n",
    "df['dias_desde_pub'] = (pd.to_datetime(\"2025=12-03\") - df)"
   ]
  },
  {
   "cell_type": "code",
   "execution_count": 22,
   "metadata": {},
   "outputs": [
    {
     "output_type": "execute_result",
     "data": {
      "text/plain": "            id             uploader               uploader_id  \\\n0  J3LHO1EKFuU          NYU Physics  UC5ECSqmOGQxtckS_inwe7ZA   \n1  x6PikWQQep0  Haritha Weerathunga  UCD6z7VtU0dRWcwKo79E3vnA   \n\n                                        uploader_url  \\\n0  http://www.youtube.com/channel/UC5ECSqmOGQxtck...   \n1  http://www.youtube.com/channel/UCD6z7VtU0dRWcw...   \n\n                 channel_id  \\\n0  UC5ECSqmOGQxtckS_inwe7ZA   \n1  UCD6z7VtU0dRWcwKo79E3vnA   \n\n                                         channel_url upload_date license  \\\n0  http://www.youtube.com/channel/UC5ECSqmOGQxtck...    20200925    None   \n1  http://www.youtube.com/channel/UCD6z7VtU0dRWcw...    20200925    None   \n\n  creator                                              title alt_title  \\\n0    None  Colloquium Sept 24, 2020 -- Machine Learning f...      None   \n1    None  Machine Learning in Sinhala | #7 - Reinforceme...      None   \n\n                                          thumbnails  \\\n0  [{'url': 'https://i.ytimg.com/vi/J3LHO1EKFuU/h...   \n1  [{'url': 'https://i.ytimg.com/vi/x6PikWQQep0/h...   \n\n                                         description              categories  \\\n0  Kyle Cranmer\\nNew York University\\n\\nHow Machi...             [Education]   \n1  ලෝකයේ ගොඩක් Robots ලා,Games wala bots ල  train...  [Science & Technology]   \n\n                                                tags subtitles  \\\n0                                               None        {}   \n1  [machine, learning, in, sinhala, machine learn...        {}   \n\n  automatic_captions  duration  age_limit annotations chapters  \\\n0                 {}      4662          0        None     None   \n1                 {}       378          0        None     None   \n\n                                   webpage_url  view_count like_count  \\\n0  https://www.youtube.com/watch?v=J3LHO1EKFuU          19       None   \n1  https://www.youtube.com/watch?v=x6PikWQQep0           6       None   \n\n  dislike_count  average_rating  \\\n0          None             NaN   \n1          None             5.0   \n\n                                             formats is_live start_time  \\\n0  [{'ext': 'm4a', 'format_note': 'DASH audio', '...    None       None   \n1  [{'format_id': '249', 'url': 'https://r1---sn-...    None       None   \n\n  end_time series season_number episode_number track artist album  \\\n0     None   None          None           None  None   None  None   \n1     None   None          None           None  None   None  None   \n\n  release_date release_year extractor webpage_url_basename extractor_key  \\\n0         None         None   youtube          J3LHO1EKFuU       Youtube   \n1         None         None   youtube          x6PikWQQep0       Youtube   \n\n   n_entries            playlist         playlist_id playlist_title  \\\n0          2  \"Machine Learning\"  \"Machine Learning\"           None   \n1          2  \"Machine Learning\"  \"Machine Learning\"           None   \n\n  playlist_uploader playlist_uploader_id  playlist_index  \\\n0              None                 None               1   \n1              None                 None               2   \n\n                                           thumbnail   display_id  \\\n0  https://i.ytimg.com/vi/J3LHO1EKFuU/hqdefault.j...  J3LHO1EKFuU   \n1  https://i.ytimg.com/vi_webp/x6PikWQQep0/maxres...  x6PikWQQep0   \n\n  requested_subtitles                                  requested_formats  \\\n0                None  ({'ext': 'webm', 'height': 1050, 'format_note'...   \n1                None  ({'format_id': '313', 'url': 'https://r1---sn-...   \n\n                                              format format_id  width  height  \\\n0  248 - 1920x1050 (DASH video)+140 - audio only ...   248+140   1920    1050   \n1    313 - 3840x2160 (2160p)+140 - audio only (tiny)   313+140   3840    2160   \n\n  resolution  fps vcodec   vbr stretched_ratio     acodec  abr   ext  \\\n0       None   25    vp9  None            None  mp4a.40.2  128  webm   \n1       None   30    vp9  None            None  mp4a.40.2  128  webm   \n\n              query  \n0  machine learning  \n1  machine learning  ",
      "text/html": "<div>\n<style scoped>\n    .dataframe tbody tr th:only-of-type {\n        vertical-align: middle;\n    }\n\n    .dataframe tbody tr th {\n        vertical-align: top;\n    }\n\n    .dataframe thead th {\n        text-align: right;\n    }\n</style>\n<table border=\"1\" class=\"dataframe\">\n  <thead>\n    <tr style=\"text-align: right;\">\n      <th></th>\n      <th>id</th>\n      <th>uploader</th>\n      <th>uploader_id</th>\n      <th>uploader_url</th>\n      <th>channel_id</th>\n      <th>channel_url</th>\n      <th>upload_date</th>\n      <th>license</th>\n      <th>creator</th>\n      <th>title</th>\n      <th>alt_title</th>\n      <th>thumbnails</th>\n      <th>description</th>\n      <th>categories</th>\n      <th>tags</th>\n      <th>subtitles</th>\n      <th>automatic_captions</th>\n      <th>duration</th>\n      <th>age_limit</th>\n      <th>annotations</th>\n      <th>chapters</th>\n      <th>webpage_url</th>\n      <th>view_count</th>\n      <th>like_count</th>\n      <th>dislike_count</th>\n      <th>average_rating</th>\n      <th>formats</th>\n      <th>is_live</th>\n      <th>start_time</th>\n      <th>end_time</th>\n      <th>series</th>\n      <th>season_number</th>\n      <th>episode_number</th>\n      <th>track</th>\n      <th>artist</th>\n      <th>album</th>\n      <th>release_date</th>\n      <th>release_year</th>\n      <th>extractor</th>\n      <th>webpage_url_basename</th>\n      <th>extractor_key</th>\n      <th>n_entries</th>\n      <th>playlist</th>\n      <th>playlist_id</th>\n      <th>playlist_title</th>\n      <th>playlist_uploader</th>\n      <th>playlist_uploader_id</th>\n      <th>playlist_index</th>\n      <th>thumbnail</th>\n      <th>display_id</th>\n      <th>requested_subtitles</th>\n      <th>requested_formats</th>\n      <th>format</th>\n      <th>format_id</th>\n      <th>width</th>\n      <th>height</th>\n      <th>resolution</th>\n      <th>fps</th>\n      <th>vcodec</th>\n      <th>vbr</th>\n      <th>stretched_ratio</th>\n      <th>acodec</th>\n      <th>abr</th>\n      <th>ext</th>\n      <th>query</th>\n    </tr>\n  </thead>\n  <tbody>\n    <tr>\n      <th>0</th>\n      <td>J3LHO1EKFuU</td>\n      <td>NYU Physics</td>\n      <td>UC5ECSqmOGQxtckS_inwe7ZA</td>\n      <td>http://www.youtube.com/channel/UC5ECSqmOGQxtck...</td>\n      <td>UC5ECSqmOGQxtckS_inwe7ZA</td>\n      <td>http://www.youtube.com/channel/UC5ECSqmOGQxtck...</td>\n      <td>20200925</td>\n      <td>None</td>\n      <td>None</td>\n      <td>Colloquium Sept 24, 2020 -- Machine Learning f...</td>\n      <td>None</td>\n      <td>[{'url': 'https://i.ytimg.com/vi/J3LHO1EKFuU/h...</td>\n      <td>Kyle Cranmer\\nNew York University\\n\\nHow Machi...</td>\n      <td>[Education]</td>\n      <td>None</td>\n      <td>{}</td>\n      <td>{}</td>\n      <td>4662</td>\n      <td>0</td>\n      <td>None</td>\n      <td>None</td>\n      <td>https://www.youtube.com/watch?v=J3LHO1EKFuU</td>\n      <td>19</td>\n      <td>None</td>\n      <td>None</td>\n      <td>NaN</td>\n      <td>[{'ext': 'm4a', 'format_note': 'DASH audio', '...</td>\n      <td>None</td>\n      <td>None</td>\n      <td>None</td>\n      <td>None</td>\n      <td>None</td>\n      <td>None</td>\n      <td>None</td>\n      <td>None</td>\n      <td>None</td>\n      <td>None</td>\n      <td>None</td>\n      <td>youtube</td>\n      <td>J3LHO1EKFuU</td>\n      <td>Youtube</td>\n      <td>2</td>\n      <td>\"Machine Learning\"</td>\n      <td>\"Machine Learning\"</td>\n      <td>None</td>\n      <td>None</td>\n      <td>None</td>\n      <td>1</td>\n      <td>https://i.ytimg.com/vi/J3LHO1EKFuU/hqdefault.j...</td>\n      <td>J3LHO1EKFuU</td>\n      <td>None</td>\n      <td>({'ext': 'webm', 'height': 1050, 'format_note'...</td>\n      <td>248 - 1920x1050 (DASH video)+140 - audio only ...</td>\n      <td>248+140</td>\n      <td>1920</td>\n      <td>1050</td>\n      <td>None</td>\n      <td>25</td>\n      <td>vp9</td>\n      <td>None</td>\n      <td>None</td>\n      <td>mp4a.40.2</td>\n      <td>128</td>\n      <td>webm</td>\n      <td>machine learning</td>\n    </tr>\n    <tr>\n      <th>1</th>\n      <td>x6PikWQQep0</td>\n      <td>Haritha Weerathunga</td>\n      <td>UCD6z7VtU0dRWcwKo79E3vnA</td>\n      <td>http://www.youtube.com/channel/UCD6z7VtU0dRWcw...</td>\n      <td>UCD6z7VtU0dRWcwKo79E3vnA</td>\n      <td>http://www.youtube.com/channel/UCD6z7VtU0dRWcw...</td>\n      <td>20200925</td>\n      <td>None</td>\n      <td>None</td>\n      <td>Machine Learning in Sinhala | #7 - Reinforceme...</td>\n      <td>None</td>\n      <td>[{'url': 'https://i.ytimg.com/vi/x6PikWQQep0/h...</td>\n      <td>ලෝකයේ ගොඩක් Robots ලා,Games wala bots ල  train...</td>\n      <td>[Science &amp; Technology]</td>\n      <td>[machine, learning, in, sinhala, machine learn...</td>\n      <td>{}</td>\n      <td>{}</td>\n      <td>378</td>\n      <td>0</td>\n      <td>None</td>\n      <td>None</td>\n      <td>https://www.youtube.com/watch?v=x6PikWQQep0</td>\n      <td>6</td>\n      <td>None</td>\n      <td>None</td>\n      <td>5.0</td>\n      <td>[{'format_id': '249', 'url': 'https://r1---sn-...</td>\n      <td>None</td>\n      <td>None</td>\n      <td>None</td>\n      <td>None</td>\n      <td>None</td>\n      <td>None</td>\n      <td>None</td>\n      <td>None</td>\n      <td>None</td>\n      <td>None</td>\n      <td>None</td>\n      <td>youtube</td>\n      <td>x6PikWQQep0</td>\n      <td>Youtube</td>\n      <td>2</td>\n      <td>\"Machine Learning\"</td>\n      <td>\"Machine Learning\"</td>\n      <td>None</td>\n      <td>None</td>\n      <td>None</td>\n      <td>2</td>\n      <td>https://i.ytimg.com/vi_webp/x6PikWQQep0/maxres...</td>\n      <td>x6PikWQQep0</td>\n      <td>None</td>\n      <td>({'format_id': '313', 'url': 'https://r1---sn-...</td>\n      <td>313 - 3840x2160 (2160p)+140 - audio only (tiny)</td>\n      <td>313+140</td>\n      <td>3840</td>\n      <td>2160</td>\n      <td>None</td>\n      <td>30</td>\n      <td>vp9</td>\n      <td>None</td>\n      <td>None</td>\n      <td>mp4a.40.2</td>\n      <td>128</td>\n      <td>webm</td>\n      <td>machine learning</td>\n    </tr>\n  </tbody>\n</table>\n</div>"
     },
     "metadata": {},
     "execution_count": 22
    }
   ],
   "source": [
    "pd.set_option(\"display.max_columns\", 73)\n",
    "df.tail()"
   ]
  },
  {
   "cell_type": "code",
   "execution_count": null,
   "metadata": {},
   "outputs": [],
   "source": []
  }
 ]
}